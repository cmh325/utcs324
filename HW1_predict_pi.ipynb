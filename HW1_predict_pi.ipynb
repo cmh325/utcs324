{
 "cells": [
  {
   "cell_type": "code",
   "execution_count": 3,
   "metadata": {
    "collapsed": true
   },
   "outputs": [],
   "source": [
    "import tensorflow as tf\n",
    "import util"
   ]
  },
  {
   "cell_type": "markdown",
   "metadata": {},
   "source": [
    "The goal of the assignment is to estimate $\\pi/4$ given a bunch of uniform random numbers in the interval [0, 1]"
   ]
  },
  {
   "cell_type": "code",
   "execution_count": 4,
   "metadata": {},
   "outputs": [],
   "source": [
    "# Let's start building up the TensorFlow graph to do this.\n",
    "\n",
    "# The input to the network should be read through a TensorFlow placeholder named ‘input’\n",
    "\n",
    "# The first parameter is the type: tf.float32, a float\n",
    "# The second parameter is the shape of the tensor as a tuple\n",
    "#    For each dimension None means the size can be arbitrary\n",
    "#    2 means this placeholder has size 2 in this dimension (x and y)\n",
    "inputs = tf.placeholder(tf.float32, (None,2), name='input')"
   ]
  },
  {
   "cell_type": "code",
   "execution_count": 21,
   "metadata": {},
   "outputs": [],
   "source": [
    "######################\n",
    "### Your Code Here ###\n",
    "######################\n",
    "\n",
    "count=tf.constant(0)\n",
    "#this has the entire vector of additions \n",
    "dist=tf.add(tf.multiply(inputs[:,0],inputs[:,0]),tf.multiply(inputs[:,1],inputs[:,1]))    \n",
    "is_circle=tf.cast(dist<= 1,tf.float32)\n",
    "pi_fourth=tf.reduce_mean(is_circle)"
   ]
  },
  {
   "cell_type": "code",
   "execution_count": 22,
   "metadata": {
    "collapsed": true
   },
   "outputs": [],
   "source": [
    "# The output tensor (your estimate of pi/4) should be named ‘output’:\n",
    "#    IMPORTANT: the grader needs your output value to come from a tensor\n",
    "#    named 'output'\n",
    "output = tf.identity(pi_fourth, name='output')"
   ]
  },
  {
   "cell_type": "code",
   "execution_count": 23,
   "metadata": {
    "collapsed": true
   },
   "outputs": [],
   "source": [
    "# Save the graph for turn in\n",
    "util.save('assignment1.tfg')"
   ]
  },
  {
   "cell_type": "code",
   "execution_count": 24,
   "metadata": {},
   "outputs": [
    {
     "name": "stdout",
     "output_type": "stream",
     "text": [
      "0.789\n"
     ]
    }
   ],
   "source": [
    "import numpy as np\n",
    "num_samples = 1000\n",
    "with tf.Session() as sess:\n",
    "    output_val = sess.run(pi_fourth, feed_dict={inputs: np.random.rand(num_samples, 2)})\n",
    "    print(output_val)"
   ]
  }
 ],
 "metadata": {
  "anaconda-cloud": {},
  "kernelspec": {
   "display_name": "Python [default]",
   "language": "python",
   "name": "python3"
  },
  "language_info": {
   "codemirror_mode": {
    "name": "ipython",
    "version": 3
   },
   "file_extension": ".py",
   "mimetype": "text/x-python",
   "name": "python",
   "nbconvert_exporter": "python",
   "pygments_lexer": "ipython3",
   "version": "3.5.3"
  }
 },
 "nbformat": 4,
 "nbformat_minor": 1
}
